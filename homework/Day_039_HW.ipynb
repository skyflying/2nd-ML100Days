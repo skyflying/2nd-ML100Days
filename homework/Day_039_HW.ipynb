{
 "cells": [
  {
   "cell_type": "markdown",
   "metadata": {},
   "source": [
    "\n",
    "# [作業重點]\n",
    "\n",
    "\n",
    "清楚了解 L1, L2 的意義與差異為何，並了解 LASSO 與 Ridge 之間的差異與使用情境\n",
    "作業\n",
    "\n",
    "請閱讀相關文獻，並回答下列問題\n",
    "\n",
    "脊回歸 (Ridge Regression)\n",
    "\n",
    "Linear, Ridge, Lasso Regression 本質區別\n",
    "\n",
    "   * LASSO 回歸可以被用來作為 Feature selection 的工具，請了解 LASSO 模型為什麼可用來作 Feature selection\n",
    "\n",
    "        Ans:隨著懲罰力(α) 的增加，越來越多的係數變成0，就可以依據這個特性來做 Feature selection.\n",
    "        \n",
    "\n",
    "   * 當自變數 (X) 存在高度共線性時，Ridge Regression 可以處理這樣的問題嗎?\n",
    "\n",
    "        Ans:可以，脊回歸能限制住參數W的增加，使W不會變得特別大，但那麼模型對輸入W中噪聲的敏感度就會降低。\n",
    "\n"
   ]
  },
  {
   "cell_type": "code",
   "execution_count": null,
   "metadata": {},
   "outputs": [],
   "source": []
  }
 ],
 "metadata": {
  "kernelspec": {
   "display_name": "Python 3",
   "language": "python",
   "name": "python3"
  },
  "language_info": {
   "codemirror_mode": {
    "name": "ipython",
    "version": 3
   },
   "file_extension": ".py",
   "mimetype": "text/x-python",
   "name": "python",
   "nbconvert_exporter": "python",
   "pygments_lexer": "ipython3",
   "version": "3.6.8"
  }
 },
 "nbformat": 4,
 "nbformat_minor": 2
}
