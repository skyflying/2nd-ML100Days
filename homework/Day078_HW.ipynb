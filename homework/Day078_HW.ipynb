{
 "cells": [
  {
   "cell_type": "markdown",
   "metadata": {},
   "source": [
    "\n",
    "# Work\n",
    "\n",
    "  請嘗試將 preproc_x 替換成以每筆資料的 min/max 進行標準化至 -1 ~ 1 間，再進行訓練\n",
    "  \n",
    "  請嘗試將 mlp 疊更深 (e.g 5~10 層)，進行訓練後觀察 learning curve 的走勢\n",
    "  \n",
    "  (optional) 請改用 GPU 進行訓練 (如果你有 GPU 的話)，比較使用 CPU 與 GPU 的訓練速度\n",
    "\n"
   ]
  },
  {
   "cell_type": "code",
   "execution_count": 1,
   "metadata": {},
   "outputs": [
    {
     "name": "stderr",
     "output_type": "stream",
     "text": [
      "Using TensorFlow backend.\n"
     ]
    }
   ],
   "source": [
    "import os\n",
    "import keras\n",
    "\n",
    "# 請嘗試設定 GPU：os.environ\n",
    "os.environ[\"CUDA_VISIBLE_DEVICES\"] = \"0\""
   ]
  },
  {
   "cell_type": "code",
   "execution_count": 2,
   "metadata": {},
   "outputs": [],
   "source": [
    "train, test = keras.datasets.cifar10.load_data()"
   ]
  },
  {
   "cell_type": "code",
   "execution_count": 3,
   "metadata": {},
   "outputs": [],
   "source": [
    "## 資料前處理\n",
    "def preproc_x(x, flatten=True):\n",
    "    x = x / 255.\n",
    "    if flatten:\n",
    "        x = x.reshape((len(x), -1))\n",
    "    return x\n",
    "\n",
    "def preproc_y(y, num_classes=10):\n",
    "    if y.shape[-1] == 1:\n",
    "        y = keras.utils.to_categorical(y, num_classes)\n",
    "    return y"
   ]
  },
  {
   "cell_type": "code",
   "execution_count": 4,
   "metadata": {},
   "outputs": [],
   "source": [
    "x_train, y_train = train\n",
    "x_test, y_test = test\n",
    "\n",
    "# Preproc the inputs\n",
    "x_train = preproc_x(x_train)\n",
    "x_test = preproc_x(x_test)\n",
    "\n",
    "# Preprc the outputs\n",
    "y_train = preproc_y(y_train)\n",
    "y_test = preproc_y(y_test)"
   ]
  },
  {
   "cell_type": "code",
   "execution_count": 5,
   "metadata": {},
   "outputs": [],
   "source": [
    "def build_mlp(input_shape, output_units=10, num_neurons=[512, 256, 128]):\n",
    "    input_layer = keras.layers.Input(input_shape)\n",
    "    \n",
    "    for i, n_units in enumerate(num_neurons):\n",
    "        if i == 0:\n",
    "            x = keras.layers.Dense(units=n_units, activation=\"relu\", name=\"hidden_layer\"+str(i+1))(input_layer)\n",
    "        else:\n",
    "            x = keras.layers.Dense(units=n_units, activation=\"relu\", name=\"hidden_layer\"+str(i+1))(x)\n",
    "    \n",
    "    out = keras.layers.Dense(units=output_units, activation=\"softmax\", name=\"output\")(x)\n",
    "    \n",
    "    model = keras.models.Model(inputs=[input_layer], outputs=[out])\n",
    "    return model"
   ]
  },
  {
   "cell_type": "code",
   "execution_count": 6,
   "metadata": {},
   "outputs": [
    {
     "name": "stdout",
     "output_type": "stream",
     "text": [
      "_________________________________________________________________\n",
      "Layer (type)                 Output Shape              Param #   \n",
      "=================================================================\n",
      "input_1 (InputLayer)         (None, 3072)              0         \n",
      "_________________________________________________________________\n",
      "hidden_layer1 (Dense)        (None, 512)               1573376   \n",
      "_________________________________________________________________\n",
      "hidden_layer2 (Dense)        (None, 256)               131328    \n",
      "_________________________________________________________________\n",
      "hidden_layer3 (Dense)        (None, 128)               32896     \n",
      "_________________________________________________________________\n",
      "output (Dense)               (None, 10)                1290      \n",
      "=================================================================\n",
      "Total params: 1,738,890\n",
      "Trainable params: 1,738,890\n",
      "Non-trainable params: 0\n",
      "_________________________________________________________________\n"
     ]
    }
   ],
   "source": [
    "model = build_mlp(input_shape=x_train.shape[1:])\n",
    "model.summary()"
   ]
  },
  {
   "cell_type": "code",
   "execution_count": 7,
   "metadata": {},
   "outputs": [],
   "source": [
    "## 超參數設定\n",
    "LEARNING_RATE = 0.001\n",
    "EPOCHS = 100\n",
    "BATCH_SIZE = 256"
   ]
  },
  {
   "cell_type": "code",
   "execution_count": 8,
   "metadata": {},
   "outputs": [],
   "source": [
    "optimizer = keras.optimizers.Adam(lr=LEARNING_RATE)\n",
    "model.compile(loss=\"categorical_crossentropy\", metrics=[\"accuracy\"], optimizer=optimizer)"
   ]
  },
  {
   "cell_type": "code",
   "execution_count": 9,
   "metadata": {},
   "outputs": [
    {
     "name": "stdout",
     "output_type": "stream",
     "text": [
      "Train on 50000 samples, validate on 10000 samples\n",
      "Epoch 1/100\n",
      "50000/50000 [==============================] - 3s 70us/step - loss: 1.9168 - acc: 0.3085 - val_loss: 1.7710 - val_acc: 0.3600\n",
      "Epoch 2/100\n",
      "50000/50000 [==============================] - 2s 44us/step - loss: 1.7002 - acc: 0.3926 - val_loss: 1.6785 - val_acc: 0.3993\n",
      "Epoch 3/100\n",
      "50000/50000 [==============================] - 2s 46us/step - loss: 1.6134 - acc: 0.4264 - val_loss: 1.5972 - val_acc: 0.4194\n",
      "Epoch 4/100\n",
      "50000/50000 [==============================] - 2s 44us/step - loss: 1.5572 - acc: 0.4465 - val_loss: 1.5239 - val_acc: 0.4617\n",
      "Epoch 5/100\n",
      "50000/50000 [==============================] - 2s 46us/step - loss: 1.5059 - acc: 0.4631 - val_loss: 1.5044 - val_acc: 0.4695\n",
      "Epoch 6/100\n",
      "50000/50000 [==============================] - 2s 42us/step - loss: 1.4631 - acc: 0.4789 - val_loss: 1.4720 - val_acc: 0.4742\n",
      "Epoch 7/100\n",
      "50000/50000 [==============================] - 2s 43us/step - loss: 1.4370 - acc: 0.4866 - val_loss: 1.4667 - val_acc: 0.4728\n",
      "Epoch 8/100\n",
      "50000/50000 [==============================] - 2s 43us/step - loss: 1.4132 - acc: 0.4959 - val_loss: 1.4602 - val_acc: 0.4761\n",
      "Epoch 9/100\n",
      "50000/50000 [==============================] - 2s 44us/step - loss: 1.3788 - acc: 0.5100 - val_loss: 1.4477 - val_acc: 0.4885\n",
      "Epoch 10/100\n",
      "50000/50000 [==============================] - 2s 47us/step - loss: 1.3518 - acc: 0.5193 - val_loss: 1.4577 - val_acc: 0.4854\n",
      "Epoch 11/100\n",
      "50000/50000 [==============================] - 2s 43us/step - loss: 1.3179 - acc: 0.5300 - val_loss: 1.3870 - val_acc: 0.5066\n",
      "Epoch 12/100\n",
      "50000/50000 [==============================] - 2s 42us/step - loss: 1.2867 - acc: 0.5417 - val_loss: 1.4184 - val_acc: 0.4985\n",
      "Epoch 13/100\n",
      "50000/50000 [==============================] - 2s 43us/step - loss: 1.2720 - acc: 0.5468 - val_loss: 1.3880 - val_acc: 0.5096\n",
      "Epoch 14/100\n",
      "50000/50000 [==============================] - 2s 43us/step - loss: 1.2542 - acc: 0.5559 - val_loss: 1.3688 - val_acc: 0.5129\n",
      "Epoch 15/100\n",
      "50000/50000 [==============================] - 2s 43us/step - loss: 1.2235 - acc: 0.5649 - val_loss: 1.3865 - val_acc: 0.5073\n",
      "Epoch 16/100\n",
      "50000/50000 [==============================] - 2s 41us/step - loss: 1.1986 - acc: 0.5726 - val_loss: 1.3731 - val_acc: 0.5153\n",
      "Epoch 17/100\n",
      "50000/50000 [==============================] - 2s 43us/step - loss: 1.1768 - acc: 0.5827 - val_loss: 1.3893 - val_acc: 0.5164\n",
      "Epoch 18/100\n",
      "50000/50000 [==============================] - 2s 41us/step - loss: 1.1594 - acc: 0.5870 - val_loss: 1.3860 - val_acc: 0.5203\n",
      "Epoch 19/100\n",
      "50000/50000 [==============================] - 2s 42us/step - loss: 1.1471 - acc: 0.5925 - val_loss: 1.3711 - val_acc: 0.5182\n",
      "Epoch 20/100\n",
      "50000/50000 [==============================] - 2s 42us/step - loss: 1.1173 - acc: 0.6024 - val_loss: 1.3647 - val_acc: 0.5204\n",
      "Epoch 21/100\n",
      "50000/50000 [==============================] - 2s 41us/step - loss: 1.1055 - acc: 0.6065 - val_loss: 1.3773 - val_acc: 0.5204\n",
      "Epoch 22/100\n",
      "50000/50000 [==============================] - 2s 42us/step - loss: 1.0904 - acc: 0.6107 - val_loss: 1.3728 - val_acc: 0.5214\n",
      "Epoch 23/100\n",
      "50000/50000 [==============================] - 2s 42us/step - loss: 1.0708 - acc: 0.6192 - val_loss: 1.3672 - val_acc: 0.5284\n",
      "Epoch 24/100\n",
      "50000/50000 [==============================] - 2s 42us/step - loss: 1.0404 - acc: 0.6290 - val_loss: 1.3878 - val_acc: 0.5218\n",
      "Epoch 25/100\n",
      "50000/50000 [==============================] - 2s 42us/step - loss: 1.0266 - acc: 0.6334 - val_loss: 1.3979 - val_acc: 0.5266\n",
      "Epoch 26/100\n",
      "50000/50000 [==============================] - 2s 42us/step - loss: 1.0038 - acc: 0.6413 - val_loss: 1.3924 - val_acc: 0.5282\n",
      "Epoch 27/100\n",
      "50000/50000 [==============================] - 2s 44us/step - loss: 0.9992 - acc: 0.6432 - val_loss: 1.3995 - val_acc: 0.5271\n",
      "Epoch 28/100\n",
      "50000/50000 [==============================] - 2s 46us/step - loss: 0.9847 - acc: 0.6499 - val_loss: 1.4468 - val_acc: 0.5176\n",
      "Epoch 29/100\n",
      "50000/50000 [==============================] - 2s 46us/step - loss: 0.9524 - acc: 0.6586 - val_loss: 1.4213 - val_acc: 0.5287\n",
      "Epoch 30/100\n",
      "50000/50000 [==============================] - 2s 43us/step - loss: 0.9325 - acc: 0.6682 - val_loss: 1.4440 - val_acc: 0.5281\n",
      "Epoch 31/100\n",
      "50000/50000 [==============================] - 2s 43us/step - loss: 0.9270 - acc: 0.6674 - val_loss: 1.4468 - val_acc: 0.5305\n",
      "Epoch 32/100\n",
      "50000/50000 [==============================] - 3s 51us/step - loss: 0.8984 - acc: 0.6782 - val_loss: 1.4525 - val_acc: 0.5254\n",
      "Epoch 33/100\n",
      "50000/50000 [==============================] - 2s 49us/step - loss: 0.8871 - acc: 0.6845 - val_loss: 1.5236 - val_acc: 0.5171\n",
      "Epoch 34/100\n",
      "50000/50000 [==============================] - 2s 45us/step - loss: 0.8739 - acc: 0.6866 - val_loss: 1.5010 - val_acc: 0.5250\n",
      "Epoch 35/100\n",
      "50000/50000 [==============================] - 2s 44us/step - loss: 0.8584 - acc: 0.6925 - val_loss: 1.4582 - val_acc: 0.5276\n",
      "Epoch 36/100\n",
      "50000/50000 [==============================] - 2s 42us/step - loss: 0.8326 - acc: 0.7037 - val_loss: 1.4899 - val_acc: 0.5255\n",
      "Epoch 37/100\n",
      "50000/50000 [==============================] - 2s 42us/step - loss: 0.8183 - acc: 0.7075 - val_loss: 1.5230 - val_acc: 0.5278\n",
      "Epoch 38/100\n",
      "50000/50000 [==============================] - 2s 42us/step - loss: 0.8153 - acc: 0.7089 - val_loss: 1.5656 - val_acc: 0.5213\n",
      "Epoch 39/100\n",
      "50000/50000 [==============================] - 2s 42us/step - loss: 0.7929 - acc: 0.7172 - val_loss: 1.5794 - val_acc: 0.5289\n",
      "Epoch 40/100\n",
      "50000/50000 [==============================] - 2s 42us/step - loss: 0.7839 - acc: 0.7201 - val_loss: 1.5565 - val_acc: 0.5320\n",
      "Epoch 41/100\n",
      "50000/50000 [==============================] - 2s 44us/step - loss: 0.7562 - acc: 0.7310 - val_loss: 1.5888 - val_acc: 0.5278\n",
      "Epoch 42/100\n",
      "50000/50000 [==============================] - 2s 43us/step - loss: 0.7468 - acc: 0.7314 - val_loss: 1.6436 - val_acc: 0.5188\n",
      "Epoch 43/100\n",
      "50000/50000 [==============================] - 2s 42us/step - loss: 0.7304 - acc: 0.7383 - val_loss: 1.6231 - val_acc: 0.5292\n",
      "Epoch 44/100\n",
      "50000/50000 [==============================] - 2s 43us/step - loss: 0.7142 - acc: 0.7443 - val_loss: 1.6198 - val_acc: 0.5307\n",
      "Epoch 45/100\n",
      "50000/50000 [==============================] - 2s 42us/step - loss: 0.6944 - acc: 0.7546 - val_loss: 1.6402 - val_acc: 0.5247\n",
      "Epoch 46/100\n",
      "50000/50000 [==============================] - 2s 44us/step - loss: 0.6941 - acc: 0.7522 - val_loss: 1.7464 - val_acc: 0.5151\n",
      "Epoch 47/100\n",
      "50000/50000 [==============================] - 2s 43us/step - loss: 0.6793 - acc: 0.7577 - val_loss: 1.7061 - val_acc: 0.5161\n",
      "Epoch 48/100\n",
      "50000/50000 [==============================] - 2s 43us/step - loss: 0.6629 - acc: 0.7631 - val_loss: 1.7399 - val_acc: 0.5183\n",
      "Epoch 49/100\n",
      "50000/50000 [==============================] - 2s 44us/step - loss: 0.6486 - acc: 0.7668 - val_loss: 1.7322 - val_acc: 0.5196\n",
      "Epoch 50/100\n",
      "50000/50000 [==============================] - 2s 44us/step - loss: 0.6157 - acc: 0.7806 - val_loss: 1.8041 - val_acc: 0.5292\n",
      "Epoch 51/100\n",
      "50000/50000 [==============================] - 2s 43us/step - loss: 0.6226 - acc: 0.7776 - val_loss: 1.8398 - val_acc: 0.5213\n",
      "Epoch 52/100\n",
      "50000/50000 [==============================] - 2s 45us/step - loss: 0.6057 - acc: 0.7833 - val_loss: 1.8204 - val_acc: 0.5209\n",
      "Epoch 53/100\n",
      "50000/50000 [==============================] - 2s 45us/step - loss: 0.5995 - acc: 0.7840 - val_loss: 1.8404 - val_acc: 0.5218\n",
      "Epoch 54/100\n",
      "50000/50000 [==============================] - 2s 45us/step - loss: 0.5857 - acc: 0.7901 - val_loss: 1.9069 - val_acc: 0.5163\n",
      "Epoch 55/100\n",
      "50000/50000 [==============================] - 2s 45us/step - loss: 0.5645 - acc: 0.7978 - val_loss: 1.9376 - val_acc: 0.5239\n",
      "Epoch 56/100\n",
      "50000/50000 [==============================] - 2s 46us/step - loss: 0.5587 - acc: 0.7993 - val_loss: 1.9265 - val_acc: 0.5165\n",
      "Epoch 57/100\n",
      "50000/50000 [==============================] - 2s 45us/step - loss: 0.5475 - acc: 0.8055 - val_loss: 1.9361 - val_acc: 0.5129\n",
      "Epoch 58/100\n",
      "50000/50000 [==============================] - 2s 44us/step - loss: 0.5429 - acc: 0.8058 - val_loss: 1.9488 - val_acc: 0.5081\n",
      "Epoch 59/100\n"
     ]
    },
    {
     "name": "stdout",
     "output_type": "stream",
     "text": [
      "50000/50000 [==============================] - 2s 43us/step - loss: 0.5459 - acc: 0.8050 - val_loss: 2.0313 - val_acc: 0.5134\n",
      "Epoch 60/100\n",
      "50000/50000 [==============================] - 2s 43us/step - loss: 0.5223 - acc: 0.8134 - val_loss: 2.0265 - val_acc: 0.5153\n",
      "Epoch 61/100\n",
      "50000/50000 [==============================] - 2s 45us/step - loss: 0.5065 - acc: 0.8179 - val_loss: 2.0972 - val_acc: 0.5226\n",
      "Epoch 62/100\n",
      "50000/50000 [==============================] - 2s 48us/step - loss: 0.5008 - acc: 0.8201 - val_loss: 2.1199 - val_acc: 0.5199\n",
      "Epoch 63/100\n",
      "50000/50000 [==============================] - 2s 43us/step - loss: 0.4905 - acc: 0.8242 - val_loss: 2.1953 - val_acc: 0.5007\n",
      "Epoch 64/100\n",
      "50000/50000 [==============================] - 2s 42us/step - loss: 0.4982 - acc: 0.8217 - val_loss: 2.1373 - val_acc: 0.5087\n",
      "Epoch 65/100\n",
      "50000/50000 [==============================] - 2s 42us/step - loss: 0.4832 - acc: 0.8272 - val_loss: 2.2558 - val_acc: 0.4974\n",
      "Epoch 66/100\n",
      "50000/50000 [==============================] - 2s 42us/step - loss: 0.4683 - acc: 0.8324 - val_loss: 2.2217 - val_acc: 0.5138\n",
      "Epoch 67/100\n",
      "50000/50000 [==============================] - 2s 42us/step - loss: 0.4526 - acc: 0.8379 - val_loss: 2.3103 - val_acc: 0.5016\n",
      "Epoch 68/100\n",
      "50000/50000 [==============================] - 2s 46us/step - loss: 0.4557 - acc: 0.8360 - val_loss: 2.3151 - val_acc: 0.5067\n",
      "Epoch 69/100\n",
      "50000/50000 [==============================] - 2s 43us/step - loss: 0.4246 - acc: 0.8495 - val_loss: 2.3695 - val_acc: 0.5112\n",
      "Epoch 70/100\n",
      "50000/50000 [==============================] - 2s 42us/step - loss: 0.4431 - acc: 0.8429 - val_loss: 2.2891 - val_acc: 0.5130\n",
      "Epoch 71/100\n",
      "50000/50000 [==============================] - 2s 44us/step - loss: 0.4453 - acc: 0.8401 - val_loss: 2.3378 - val_acc: 0.5094\n",
      "Epoch 72/100\n",
      "50000/50000 [==============================] - 2s 46us/step - loss: 0.4189 - acc: 0.8506 - val_loss: 2.3226 - val_acc: 0.5161\n",
      "Epoch 73/100\n",
      "50000/50000 [==============================] - 2s 45us/step - loss: 0.3931 - acc: 0.8596 - val_loss: 2.3693 - val_acc: 0.5163\n",
      "Epoch 74/100\n",
      "50000/50000 [==============================] - 2s 45us/step - loss: 0.3878 - acc: 0.8626 - val_loss: 2.4858 - val_acc: 0.5058\n",
      "Epoch 75/100\n",
      "50000/50000 [==============================] - 2s 44us/step - loss: 0.4060 - acc: 0.8551 - val_loss: 2.5262 - val_acc: 0.5067\n",
      "Epoch 76/100\n",
      "50000/50000 [==============================] - 2s 43us/step - loss: 0.4039 - acc: 0.8555 - val_loss: 2.4830 - val_acc: 0.5105\n",
      "Epoch 77/100\n",
      "50000/50000 [==============================] - 2s 46us/step - loss: 0.3843 - acc: 0.8626 - val_loss: 2.5114 - val_acc: 0.5099\n",
      "Epoch 78/100\n",
      "50000/50000 [==============================] - 2s 46us/step - loss: 0.3591 - acc: 0.8720 - val_loss: 2.5462 - val_acc: 0.5140\n",
      "Epoch 79/100\n",
      "50000/50000 [==============================] - 2s 44us/step - loss: 0.3723 - acc: 0.8655 - val_loss: 2.5843 - val_acc: 0.5056\n",
      "Epoch 80/100\n",
      "50000/50000 [==============================] - 2s 43us/step - loss: 0.3937 - acc: 0.8580 - val_loss: 2.6579 - val_acc: 0.5064\n",
      "Epoch 81/100\n",
      "50000/50000 [==============================] - 2s 45us/step - loss: 0.3540 - acc: 0.8718 - val_loss: 2.6833 - val_acc: 0.4942\n",
      "Epoch 82/100\n",
      "50000/50000 [==============================] - 2s 44us/step - loss: 0.3558 - acc: 0.8732 - val_loss: 2.6031 - val_acc: 0.5038\n",
      "Epoch 83/100\n",
      "50000/50000 [==============================] - 2s 46us/step - loss: 0.3324 - acc: 0.8812 - val_loss: 2.6633 - val_acc: 0.5053\n",
      "Epoch 84/100\n",
      "50000/50000 [==============================] - 2s 46us/step - loss: 0.3430 - acc: 0.8778 - val_loss: 2.6975 - val_acc: 0.5083\n",
      "Epoch 85/100\n",
      "50000/50000 [==============================] - 2s 45us/step - loss: 0.3550 - acc: 0.8730 - val_loss: 2.7421 - val_acc: 0.5078\n",
      "Epoch 86/100\n",
      "50000/50000 [==============================] - 2s 44us/step - loss: 0.3298 - acc: 0.8814 - val_loss: 2.7759 - val_acc: 0.4993\n",
      "Epoch 87/100\n",
      "50000/50000 [==============================] - 2s 43us/step - loss: 0.3376 - acc: 0.8791 - val_loss: 2.8979 - val_acc: 0.5026\n",
      "Epoch 88/100\n",
      "50000/50000 [==============================] - 2s 44us/step - loss: 0.3381 - acc: 0.8794 - val_loss: 2.8276 - val_acc: 0.5137\n",
      "Epoch 89/100\n",
      "50000/50000 [==============================] - 2s 42us/step - loss: 0.3328 - acc: 0.8806 - val_loss: 2.8092 - val_acc: 0.5029\n",
      "Epoch 90/100\n",
      "50000/50000 [==============================] - 2s 41us/step - loss: 0.2976 - acc: 0.8940 - val_loss: 2.9354 - val_acc: 0.5015\n",
      "Epoch 91/100\n",
      "50000/50000 [==============================] - 2s 42us/step - loss: 0.3046 - acc: 0.8912 - val_loss: 2.8885 - val_acc: 0.5065\n",
      "Epoch 92/100\n",
      "50000/50000 [==============================] - 2s 44us/step - loss: 0.3242 - acc: 0.8830 - val_loss: 2.9317 - val_acc: 0.5107\n",
      "Epoch 93/100\n",
      "50000/50000 [==============================] - 2s 42us/step - loss: 0.3020 - acc: 0.8930 - val_loss: 2.9763 - val_acc: 0.4962\n",
      "Epoch 94/100\n",
      "50000/50000 [==============================] - 2s 42us/step - loss: 0.2940 - acc: 0.8956 - val_loss: 2.8984 - val_acc: 0.5075\n",
      "Epoch 95/100\n",
      "50000/50000 [==============================] - 2s 41us/step - loss: 0.3105 - acc: 0.8877 - val_loss: 3.0103 - val_acc: 0.4989\n",
      "Epoch 96/100\n",
      "50000/50000 [==============================] - 2s 42us/step - loss: 0.3074 - acc: 0.8883 - val_loss: 2.9552 - val_acc: 0.5090\n",
      "Epoch 97/100\n",
      "50000/50000 [==============================] - 2s 42us/step - loss: 0.2916 - acc: 0.8962 - val_loss: 3.1001 - val_acc: 0.4953\n",
      "Epoch 98/100\n",
      "50000/50000 [==============================] - 2s 42us/step - loss: 0.3036 - acc: 0.8915 - val_loss: 3.0075 - val_acc: 0.5022\n",
      "Epoch 99/100\n",
      "50000/50000 [==============================] - 2s 44us/step - loss: 0.2711 - acc: 0.9048 - val_loss: 3.0951 - val_acc: 0.5023\n",
      "Epoch 100/100\n",
      "50000/50000 [==============================] - 2s 47us/step - loss: 0.2665 - acc: 0.9034 - val_loss: 3.0830 - val_acc: 0.5026\n"
     ]
    },
    {
     "data": {
      "text/plain": [
       "<keras.callbacks.History at 0x252c3778668>"
      ]
     },
     "execution_count": 9,
     "metadata": {},
     "output_type": "execute_result"
    }
   ],
   "source": [
    "model.fit(x_train, y_train, \n",
    "          epochs=EPOCHS, \n",
    "          batch_size=BATCH_SIZE, \n",
    "          validation_data=(x_test, y_test), \n",
    "          shuffle=True)"
   ]
  },
  {
   "cell_type": "code",
   "execution_count": 11,
   "metadata": {},
   "outputs": [
    {
     "data": {
      "image/png": "[encoded data removed]",
      "text/plain": [
       "<Figure size 432x288 with 1 Axes>"
      ]
     },
     "metadata": {
      "needs_background": "light"
     },
     "output_type": "display_data"
    },
    {
     "data": {
      "image/png": "[encoded data removed]",
      "text/plain": [
       "<Figure size 432x288 with 1 Axes>"
      ]
     },
     "metadata": {
      "needs_background": "light"
     },
     "output_type": "display_data"
    }
   ],
   "source": [
    "import matplotlib.pyplot as plt\n",
    "\n",
    "\n",
    "train_loss = model.history.history[\"loss\"]\n",
    "valid_loss = model.history.history[\"val_loss\"]\n",
    "\n",
    "train_acc = model.history.history[\"acc\"]\n",
    "valid_acc = model.history.history[\"val_acc\"]\n",
    "\n",
    "plt.plot(range(len(train_loss)), train_loss, label=\"train loss\")\n",
    "plt.plot(range(len(valid_loss)), valid_loss, label=\"valid loss\")\n",
    "plt.legend()\n",
    "plt.title(\"Loss\")\n",
    "plt.show()\n",
    "\n",
    "plt.plot(range(len(train_acc)), train_acc, label=\"train accuracy\")\n",
    "plt.plot(range(len(valid_acc)), valid_acc, label=\"valid accuracy\")\n",
    "plt.legend()\n",
    "plt.title(\"Accuracy\")\n",
    "plt.show()"
   ]
  },
  {
   "cell_type": "code",
   "execution_count": null,
   "metadata": {},
   "outputs": [],
   "source": []
  }
 ],
 "metadata": {
  "kernelspec": {
   "display_name": "Python 3",
   "language": "python",
   "name": "python3"
  },
  "language_info": {
   "codemirror_mode": {
    "name": "ipython",
    "version": 3
   },
   "file_extension": ".py",
   "mimetype": "text/x-python",
   "name": "python",
   "nbconvert_exporter": "python",
   "pygments_lexer": "ipython3",
   "version": "3.6.8"
  }
 },
 "nbformat": 4,
 "nbformat_minor": 2
}
