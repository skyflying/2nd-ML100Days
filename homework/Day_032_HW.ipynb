{
 "cells": [
  {
   "cell_type": "markdown",
   "metadata": {},
   "source": [
    "\n",
    "# 練習時間\n",
    "\n",
    "相信大家目前都能夠初步了解機器學習專案的流程及步驟，今天的作業希望大家能夠看看全球機器學習巨頭們在做的機器學習專案。以 google 為例，下圖是 Google 內部專案使用機器學習的數量，隨著時間進展，現在早已超過 2000 個專案在使用 ML。\n",
    "\n",
    "![Alt text]( https://cdn-images-1.medium.com/max/800/1*U_L8qI8RmYS-MOBrYvXhSA.png )\n",
    "\n",
    "底下幫同學整理幾間知名企業的 blog 或機器學習網站 (自行搜尋也可)，請挑選一篇文章閱讀並試著回答\n",
    "\n",
    "    專案的目標？ (要解決什麼問題）\n",
    "    使用的技術是？ (只需知道名稱即可，例如：使用 CNN 卷積神經網路做影像分類)\n",
    "    資料來源？\n",
    "\n",
    "  [Google AI blog](https://ai.googleblog.com/) \n",
    "  \n",
    "  [Facebook Research blog](https://research.fb.com/blog/)\n",
    "  \n",
    "  [Apple machine learning journal](https://machinelearning.apple.com/)\n",
    "  \n",
    "  [機器之心](https://www.jiqizhixin.com/)\n",
    "  \n",
    "  [雷鋒網](http://www.leiphone.com/category/ai)\n",
    "\n"
   ]
  },
  {
   "cell_type": "markdown",
   "metadata": {},
   "source": [
    "Ans:\n",
    "\n",
    " 1.波士頓地區的房價預測\n",
    " \n",
    " 2.線性回歸做房價預測\n",
    " \n",
    " 3.[Machine Learning Project: Predicting Boston House Prices With Regression](https://towardsdatascience.com/machine-learning-project-predicting-boston-house-prices-with-regression-b4e47493633d)"
   ]
  },
  {
   "cell_type": "code",
   "execution_count": null,
   "metadata": {},
   "outputs": [],
   "source": []
  }
 ],
 "metadata": {
  "kernelspec": {
   "display_name": "Python 3",
   "language": "python",
   "name": "python3"
  },
  "language_info": {
   "codemirror_mode": {
    "name": "ipython",
    "version": 3
   },
   "file_extension": ".py",
   "mimetype": "text/x-python",
   "name": "python",
   "nbconvert_exporter": "python",
   "pygments_lexer": "ipython3",
   "version": "3.6.8"
  }
 },
 "nbformat": 4,
 "nbformat_minor": 2
}
