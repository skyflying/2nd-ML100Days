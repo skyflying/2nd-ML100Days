{
 "cells": [
  {
   "cell_type": "markdown",
   "metadata": {},
   "source": [
    "\n",
    "# Work\n",
    "\n",
    "   * 請比較使用不同層數以及不同 Dropout rate 對訓練的效果\n",
    "   * 將 optimizer 改成使用 Adam 並加上適當的 dropout rate 檢視結果\n",
    "\n"
   ]
  },
  {
   "cell_type": "code",
   "execution_count": 2,
   "metadata": {},
   "outputs": [
    {
     "name": "stderr",
     "output_type": "stream",
     "text": [
      "Using TensorFlow backend.\n"
     ]
    }
   ],
   "source": [
    "import os\n",
    "import keras\n",
    "import itertools\n",
    "# Disable GPU\n",
    "os.environ[\"CUDA_VISIBLE_DEVICES\"] = \"0\""
   ]
  },
  {
   "cell_type": "code",
   "execution_count": 3,
   "metadata": {},
   "outputs": [],
   "source": [
    "def preproc_x(x, flatten=True):\n",
    "    x = x / 255.\n",
    "    if flatten:\n",
    "        x = x.reshape((len(x), -1))\n",
    "    return x\n",
    "\n",
    "def preproc_y(y, num_classes=10):\n",
    "    if y.shape[-1] == 1:\n",
    "        y = keras.utils.to_categorical(y, num_classes)\n",
    "    return y"
   ]
  },
  {
   "cell_type": "code",
   "execution_count": 4,
   "metadata": {},
   "outputs": [],
   "source": [
    "train, test = keras.datasets.cifar10.load_data()\n",
    "\n",
    "x_train, y_train = train\n",
    "x_test, y_test = test\n",
    "\n",
    "# Preproc the inputs\n",
    "x_train = preproc_x(x_train)\n",
    "x_test = preproc_x(x_test)\n",
    "\n",
    "# Preprc the outputs\n",
    "y_train = preproc_y(y_train)\n",
    "y_test = preproc_y(y_test)"
   ]
  },
  {
   "cell_type": "code",
   "execution_count": 5,
   "metadata": {},
   "outputs": [],
   "source": [
    "from keras.layers import Dropout\n",
    "\n",
    "\"\"\"\n",
    "建立神經網路，並加入 dropout layer\n",
    "\"\"\"\n",
    "def build_mlp(input_shape, output_units=10, num_neurons=[512, 256, 128], drp_ratio=0.2):\n",
    "    input_layer = keras.layers.Input(input_shape)\n",
    "    \n",
    "    for i, n_units in enumerate(num_neurons):\n",
    "        if i == 0:\n",
    "            x = keras.layers.Dense(units=n_units, \n",
    "                                   activation=\"relu\", \n",
    "                                   name=\"hidden_layer\"+str(i+1))(input_layer)\n",
    "            x = Dropout(drp_ratio)(x)\n",
    "        else:\n",
    "            x = keras.layers.Dense(units=n_units, \n",
    "                                   activation=\"relu\", \n",
    "                                   name=\"hidden_layer\"+str(i+1))(x)\n",
    "            x = Dropout(drp_ratio)(x)\n",
    "    \n",
    "    out = keras.layers.Dense(units=output_units, activation=\"softmax\", name=\"output\")(x)\n",
    "    \n",
    "    model = keras.models.Model(inputs=[input_layer], outputs=[out])\n",
    "    return model"
   ]
  },
  {
   "cell_type": "code",
   "execution_count": 6,
   "metadata": {},
   "outputs": [],
   "source": [
    "## 超參數設定\n",
    "LEARNING_RATE = 1e-3\n",
    "EPOCHS = 50\n",
    "BATCH_SIZE = 256\n",
    "MOMENTUM = 0.95\n",
    "Dropout_EXP = 0.25"
   ]
  },
  {
   "cell_type": "code",
   "execution_count": 7,
   "metadata": {},
   "outputs": [
    {
     "name": "stdout",
     "output_type": "stream",
     "text": [
      "_________________________________________________________________\n",
      "Layer (type)                 Output Shape              Param #   \n",
      "=================================================================\n",
      "input_1 (InputLayer)         (None, 3072)              0         \n",
      "_________________________________________________________________\n",
      "hidden_layer1 (Dense)        (None, 512)               1573376   \n",
      "_________________________________________________________________\n",
      "dropout_1 (Dropout)          (None, 512)               0         \n",
      "_________________________________________________________________\n",
      "hidden_layer2 (Dense)        (None, 256)               131328    \n",
      "_________________________________________________________________\n",
      "dropout_2 (Dropout)          (None, 256)               0         \n",
      "_________________________________________________________________\n",
      "hidden_layer3 (Dense)        (None, 128)               32896     \n",
      "_________________________________________________________________\n",
      "dropout_3 (Dropout)          (None, 128)               0         \n",
      "_________________________________________________________________\n",
      "output (Dense)               (None, 10)                1290      \n",
      "=================================================================\n",
      "Total params: 1,738,890\n",
      "Trainable params: 1,738,890\n",
      "Non-trainable params: 0\n",
      "_________________________________________________________________\n",
      "Train on 50000 samples, validate on 10000 samples\n",
      "Epoch 1/50\n",
      "50000/50000 [==============================] - 13s 256us/step - loss: 2.0533 - acc: 0.2378 - val_loss: 1.8329 - val_acc: 0.3247\n",
      "Epoch 2/50\n",
      "50000/50000 [==============================] - 2s 42us/step - loss: 1.8765 - acc: 0.3157 - val_loss: 1.7562 - val_acc: 0.3826\n",
      "Epoch 3/50\n",
      "50000/50000 [==============================] - 2s 43us/step - loss: 1.8146 - acc: 0.3411 - val_loss: 1.7355 - val_acc: 0.3957\n",
      "Epoch 4/50\n",
      "50000/50000 [==============================] - 2s 43us/step - loss: 1.7845 - acc: 0.3530 - val_loss: 1.6843 - val_acc: 0.3984\n",
      "Epoch 5/50\n",
      "50000/50000 [==============================] - 2s 43us/step - loss: 1.7605 - acc: 0.3591 - val_loss: 1.6777 - val_acc: 0.4053\n",
      "Epoch 6/50\n",
      "50000/50000 [==============================] - 2s 43us/step - loss: 1.7264 - acc: 0.3765 - val_loss: 1.6058 - val_acc: 0.4346\n",
      "Epoch 7/50\n",
      "50000/50000 [==============================] - 2s 43us/step - loss: 1.7035 - acc: 0.3863 - val_loss: 1.6277 - val_acc: 0.4244\n",
      "Epoch 8/50\n",
      "50000/50000 [==============================] - 2s 44us/step - loss: 1.6883 - acc: 0.3893 - val_loss: 1.6058 - val_acc: 0.4261\n",
      "Epoch 9/50\n",
      "50000/50000 [==============================] - 2s 43us/step - loss: 1.6760 - acc: 0.3963 - val_loss: 1.6032 - val_acc: 0.4363\n",
      "Epoch 10/50\n",
      "50000/50000 [==============================] - 2s 45us/step - loss: 1.6578 - acc: 0.4013 - val_loss: 1.6139 - val_acc: 0.4220\n",
      "Epoch 11/50\n",
      "50000/50000 [==============================] - 2s 44us/step - loss: 1.6457 - acc: 0.4083 - val_loss: 1.5754 - val_acc: 0.4438\n",
      "Epoch 12/50\n",
      "50000/50000 [==============================] - 2s 42us/step - loss: 1.6434 - acc: 0.4065 - val_loss: 1.5521 - val_acc: 0.4553\n",
      "Epoch 13/50\n",
      "50000/50000 [==============================] - 2s 42us/step - loss: 1.6211 - acc: 0.4147 - val_loss: 1.5632 - val_acc: 0.4505\n",
      "Epoch 14/50\n",
      "50000/50000 [==============================] - 2s 44us/step - loss: 1.6164 - acc: 0.4174 - val_loss: 1.5496 - val_acc: 0.4521\n",
      "Epoch 15/50\n",
      "50000/50000 [==============================] - 2s 46us/step - loss: 1.6018 - acc: 0.4233 - val_loss: 1.5377 - val_acc: 0.4591\n",
      "Epoch 16/50\n",
      "50000/50000 [==============================] - 2s 44us/step - loss: 1.6033 - acc: 0.4221 - val_loss: 1.5191 - val_acc: 0.4598\n",
      "Epoch 17/50\n",
      "50000/50000 [==============================] - 2s 42us/step - loss: 1.5944 - acc: 0.4267 - val_loss: 1.5243 - val_acc: 0.4577\n",
      "Epoch 18/50\n",
      "50000/50000 [==============================] - 2s 42us/step - loss: 1.5905 - acc: 0.4264 - val_loss: 1.5495 - val_acc: 0.4558\n",
      "Epoch 19/50\n",
      "50000/50000 [==============================] - 2s 41us/step - loss: 1.5794 - acc: 0.4304 - val_loss: 1.5286 - val_acc: 0.4608\n",
      "Epoch 20/50\n",
      "50000/50000 [==============================] - 2s 42us/step - loss: 1.5671 - acc: 0.4349 - val_loss: 1.4908 - val_acc: 0.4719\n",
      "Epoch 21/50\n",
      "50000/50000 [==============================] - 2s 41us/step - loss: 1.5706 - acc: 0.4339 - val_loss: 1.5142 - val_acc: 0.4700\n",
      "Epoch 22/50\n",
      "50000/50000 [==============================] - 2s 42us/step - loss: 1.5642 - acc: 0.4370 - val_loss: 1.5308 - val_acc: 0.4627\n",
      "Epoch 23/50\n",
      "50000/50000 [==============================] - 2s 42us/step - loss: 1.5558 - acc: 0.4400 - val_loss: 1.4877 - val_acc: 0.4768\n",
      "Epoch 24/50\n",
      "50000/50000 [==============================] - 2s 42us/step - loss: 1.5482 - acc: 0.4412 - val_loss: 1.4900 - val_acc: 0.4758\n",
      "Epoch 25/50\n",
      "50000/50000 [==============================] - 2s 42us/step - loss: 1.5493 - acc: 0.4437 - val_loss: 1.4846 - val_acc: 0.4770\n",
      "Epoch 26/50\n",
      "50000/50000 [==============================] - 2s 41us/step - loss: 1.5387 - acc: 0.4468 - val_loss: 1.4677 - val_acc: 0.4736\n",
      "Epoch 27/50\n",
      "50000/50000 [==============================] - 2s 42us/step - loss: 1.5365 - acc: 0.4477 - val_loss: 1.4688 - val_acc: 0.4757\n",
      "Epoch 28/50\n",
      "50000/50000 [==============================] - 2s 42us/step - loss: 1.5267 - acc: 0.4507 - val_loss: 1.4837 - val_acc: 0.4662\n",
      "Epoch 29/50\n",
      "50000/50000 [==============================] - 2s 42us/step - loss: 1.5310 - acc: 0.4484 - val_loss: 1.4656 - val_acc: 0.4824\n",
      "Epoch 30/50\n",
      "50000/50000 [==============================] - 2s 42us/step - loss: 1.5165 - acc: 0.4523 - val_loss: 1.4731 - val_acc: 0.4814\n",
      "Epoch 31/50\n",
      "50000/50000 [==============================] - 2s 41us/step - loss: 1.5240 - acc: 0.4511 - val_loss: 1.4679 - val_acc: 0.4838\n",
      "Epoch 32/50\n",
      "50000/50000 [==============================] - 2s 42us/step - loss: 1.5142 - acc: 0.4544 - val_loss: 1.4814 - val_acc: 0.4757\n",
      "Epoch 33/50\n",
      "50000/50000 [==============================] - 2s 42us/step - loss: 1.5129 - acc: 0.4535 - val_loss: 1.4633 - val_acc: 0.4797\n",
      "Epoch 34/50\n",
      "50000/50000 [==============================] - 2s 41us/step - loss: 1.5037 - acc: 0.4569 - val_loss: 1.4786 - val_acc: 0.4724\n",
      "Epoch 35/50\n",
      "50000/50000 [==============================] - 2s 42us/step - loss: 1.5082 - acc: 0.4564 - val_loss: 1.4394 - val_acc: 0.4843\n",
      "Epoch 36/50\n",
      "50000/50000 [==============================] - 2s 42us/step - loss: 1.5077 - acc: 0.4589 - val_loss: 1.4660 - val_acc: 0.4864\n",
      "Epoch 37/50\n",
      "50000/50000 [==============================] - 2s 42us/step - loss: 1.5001 - acc: 0.4609 - val_loss: 1.4400 - val_acc: 0.4921\n",
      "Epoch 38/50\n",
      "50000/50000 [==============================] - 2s 42us/step - loss: 1.4996 - acc: 0.4609 - val_loss: 1.4693 - val_acc: 0.4826\n",
      "Epoch 39/50\n",
      "50000/50000 [==============================] - 2s 42us/step - loss: 1.4941 - acc: 0.4611 - val_loss: 1.4452 - val_acc: 0.4864\n",
      "Epoch 40/50\n",
      "50000/50000 [==============================] - 2s 42us/step - loss: 1.4907 - acc: 0.4657 - val_loss: 1.4327 - val_acc: 0.4933\n",
      "Epoch 41/50\n",
      "50000/50000 [==============================] - 2s 42us/step - loss: 1.4786 - acc: 0.4683 - val_loss: 1.4377 - val_acc: 0.4936\n",
      "Epoch 42/50\n",
      "50000/50000 [==============================] - 2s 42us/step - loss: 1.4862 - acc: 0.4656 - val_loss: 1.4600 - val_acc: 0.4867\n",
      "Epoch 43/50\n",
      "50000/50000 [==============================] - 2s 41us/step - loss: 1.4808 - acc: 0.4691 - val_loss: 1.4246 - val_acc: 0.4948\n",
      "Epoch 44/50\n",
      "50000/50000 [==============================] - 2s 42us/step - loss: 1.4769 - acc: 0.4692 - val_loss: 1.4661 - val_acc: 0.4810\n",
      "Epoch 45/50\n",
      "50000/50000 [==============================] - 2s 41us/step - loss: 1.4759 - acc: 0.4710 - val_loss: 1.4464 - val_acc: 0.4882\n",
      "Epoch 46/50\n",
      "50000/50000 [==============================] - 2s 42us/step - loss: 1.4764 - acc: 0.4703 - val_loss: 1.4283 - val_acc: 0.4962\n",
      "Epoch 47/50\n",
      "50000/50000 [==============================] - 2s 41us/step - loss: 1.4741 - acc: 0.4674 - val_loss: 1.4405 - val_acc: 0.4943\n",
      "Epoch 48/50\n",
      "50000/50000 [==============================] - 2s 42us/step - loss: 1.4699 - acc: 0.4741 - val_loss: 1.4502 - val_acc: 0.4832\n",
      "Epoch 49/50\n",
      "50000/50000 [==============================] - 2s 43us/step - loss: 1.4663 - acc: 0.4757 - val_loss: 1.4337 - val_acc: 0.4933\n"
     ]
    },
    {
     "name": "stdout",
     "output_type": "stream",
     "text": [
      "Epoch 50/50\n",
      "50000/50000 [==============================] - 2s 42us/step - loss: 1.4609 - acc: 0.4770 - val_loss: 1.4437 - val_acc: 0.4901\n"
     ]
    }
   ],
   "source": [
    "model = build_mlp(input_shape=x_train.shape[1:], drp_ratio=Dropout_EXP)\n",
    "model.summary()\n",
    "optimizer = keras.optimizers.Adam(lr=LEARNING_RATE)\n",
    "model.compile(loss=\"categorical_crossentropy\", metrics=[\"accuracy\"], optimizer=optimizer)\n",
    "\n",
    "model.fit(x_train, y_train, \n",
    "          epochs=EPOCHS, \n",
    "          batch_size=BATCH_SIZE, \n",
    "          validation_data=(x_test, y_test), \n",
    "          shuffle=True)\n",
    "\n",
    "# Collect results\n",
    "train_loss = model.history.history[\"loss\"]\n",
    "valid_loss = model.history.history[\"val_loss\"]\n",
    "train_acc = model.history.history[\"acc\"]\n",
    "valid_acc = model.history.history[\"val_acc\"]"
   ]
  },
  {
   "cell_type": "code",
   "execution_count": 8,
   "metadata": {},
   "outputs": [
    {
     "data": {
      "image/png": "[encoded data removed]",
      "text/plain": [
       "<Figure size 432x288 with 1 Axes>"
      ]
     },
     "metadata": {
      "needs_background": "light"
     },
     "output_type": "display_data"
    },
    {
     "data": {
      "image/png": "[encoded data removed]",
      "text/plain": [
       "<Figure size 432x288 with 1 Axes>"
      ]
     },
     "metadata": {
      "needs_background": "light"
     },
     "output_type": "display_data"
    }
   ],
   "source": [
    "import matplotlib.pyplot as plt\n",
    "%matplotlib inline\n",
    "\n",
    "plt.plot(range(len(train_loss)), train_loss, label=\"train loss\")\n",
    "plt.plot(range(len(valid_loss)), valid_loss, label=\"valid loss\")\n",
    "plt.legend()\n",
    "plt.title(\"Loss\")\n",
    "plt.show()\n",
    "\n",
    "plt.plot(range(len(train_acc)), train_acc, label=\"train accuracy\")\n",
    "plt.plot(range(len(valid_acc)), valid_acc, label=\"valid accuracy\")\n",
    "plt.legend()\n",
    "plt.title(\"Accuracy\")\n",
    "plt.show()"
   ]
  },
  {
   "cell_type": "code",
   "execution_count": null,
   "metadata": {},
   "outputs": [],
   "source": []
  }
 ],
 "metadata": {
  "kernelspec": {
   "display_name": "Python 3",
   "language": "python",
   "name": "python3"
  },
  "language_info": {
   "codemirror_mode": {
    "name": "ipython",
    "version": 3
   },
   "file_extension": ".py",
   "mimetype": "text/x-python",
   "name": "python",
   "nbconvert_exporter": "python",
   "pygments_lexer": "ipython3",
   "version": "3.6.8"
  }
 },
 "nbformat": 4,
 "nbformat_minor": 2
}
